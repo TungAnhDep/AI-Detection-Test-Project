{
 "cells": [
  {
   "cell_type": "code",
   "execution_count": 1,
   "id": "44e7a6c2-3620-4f37-afce-48eff5805152",
   "metadata": {},
   "outputs": [],
   "source": [
    "#Importing library:\n",
    "import tensorflow as tf\n",
    "from tensorflow.keras.preprocessing.image import ImageDataGenerator\n"
   ]
  },
  {
   "cell_type": "code",
   "execution_count": 2,
   "id": "60adb29d-c933-4be6-8b6c-1b362145b6c9",
   "metadata": {},
   "outputs": [
    {
     "data": {
      "text/plain": [
       "'2.16.1'"
      ]
     },
     "execution_count": 2,
     "metadata": {},
     "output_type": "execute_result"
    }
   ],
   "source": [
    "tf.__version__"
   ]
  },
  {
   "cell_type": "code",
   "execution_count": 3,
   "id": "b4301456-2422-462e-8724-069ee1bd74e2",
   "metadata": {},
   "outputs": [
    {
     "name": "stdout",
     "output_type": "stream",
     "text": [
      "C:\\Users\\Admin\n"
     ]
    }
   ],
   "source": [
    "import os\n",
    "print(os.getcwd())\n"
   ]
  },
  {
   "cell_type": "markdown",
   "id": "c9d07de3-c311-4c7e-834a-ef24ad8608d3",
   "metadata": {},
   "source": [
    "Part 1 -Data Preprocessing"
   ]
  },
  {
   "cell_type": "markdown",
   "id": "0e538647-41a0-4567-93d8-613514084afe",
   "metadata": {},
   "source": [
    "Preprocessing the Training Set"
   ]
  },
  {
   "cell_type": "code",
   "execution_count": 4,
   "id": "81c19b14-1083-4fd2-bfdc-0022c5fd72b4",
   "metadata": {},
   "outputs": [
    {
     "name": "stdout",
     "output_type": "stream",
     "text": [
      "Found 8000 images belonging to 2 classes.\n"
     ]
    }
   ],
   "source": [
    "#Apply transformation: Image Augmentation: Keras API\n",
    "train_datagen = ImageDataGenerator(\n",
    "    rescale=1./255,#feature scaling\n",
    "    shear_range=0.2,\n",
    "    zoom_range=0.2,\n",
    "    horizontal_flip=True) #Prevent overfitting\n",
    "training_set = train_datagen.flow_from_directory(\n",
    "    'dataset/training_set',\n",
    "    target_size=(64,64),\n",
    "    batch_size = 32,\n",
    "    class_mode = 'binary'#category\n",
    ")"
   ]
  },
  {
   "cell_type": "markdown",
   "id": "1545fd8d-018d-494a-9bab-5da49325c9a9",
   "metadata": {},
   "source": [
    "Preprocessing the Test Set"
   ]
  },
  {
   "cell_type": "code",
   "execution_count": 5,
   "id": "3c44c3ed-f3ce-4daa-b6c0-b41beaff1df4",
   "metadata": {},
   "outputs": [
    {
     "name": "stdout",
     "output_type": "stream",
     "text": [
      "Found 2000 images belonging to 2 classes.\n"
     ]
    }
   ],
   "source": [
    "test_datagen = ImageDataGenerator(rescale = 1./255)\n",
    "test_set = test_datagen.flow_from_directory(\n",
    "    'dataset/test_set',\n",
    "    target_size = (64,64),\n",
    "    batch_size = 32,\n",
    "    class_mode = 'binary')"
   ]
  },
  {
   "cell_type": "markdown",
   "id": "28c0d8ae-00ab-4338-8daf-3ad80bdf8aa6",
   "metadata": {},
   "source": [
    "Part 2 - Building the CNN"
   ]
  },
  {
   "cell_type": "markdown",
   "id": "52d4f005-cd10-45fb-8e78-088ae63c559e",
   "metadata": {},
   "source": [
    "Initialising the CNN"
   ]
  },
  {
   "cell_type": "code",
   "execution_count": 6,
   "id": "887503b3-e071-408e-80a0-81cbbc3ed934",
   "metadata": {},
   "outputs": [],
   "source": [
    "cnn = tf.keras.models.Sequential()"
   ]
  },
  {
   "cell_type": "markdown",
   "id": "813b3c98-fc96-4a0a-9129-a058467d64d1",
   "metadata": {},
   "source": [
    "Step 1 - Convolution"
   ]
  },
  {
   "cell_type": "code",
   "execution_count": 7,
   "id": "ea0b1228-d8d3-4634-866e-d11bc8617dca",
   "metadata": {},
   "outputs": [
    {
     "name": "stderr",
     "output_type": "stream",
     "text": [
      "C:\\Users\\Admin\\AppData\\Local\\Programs\\Python\\Python312\\Lib\\site-packages\\keras\\src\\layers\\convolutional\\base_conv.py:107: UserWarning: Do not pass an `input_shape`/`input_dim` argument to a layer. When using Sequential models, prefer using an `Input(shape)` object as the first layer in the model instead.\n",
      "  super().__init__(activity_regularizer=activity_regularizer, **kwargs)\n"
     ]
    }
   ],
   "source": [
    "cnn.add(tf.keras.layers.Conv2D(filters=32, kernel_size=3, activation='relu', input_shape=[64,64,3]))\n",
    "#filters: how many feature detector\n",
    "#kernel_size: feature detector size: 3x3\n",
    "#64,64: Image resized to 64x64, 3: RGB, if black and white: 1\n",
    "##input_shape only when add first layer"
   ]
  },
  {
   "cell_type": "markdown",
   "id": "0e038613-2278-4c9d-8aae-d309ae926561",
   "metadata": {},
   "source": [
    "Step 2 - Pooling"
   ]
  },
  {
   "cell_type": "code",
   "execution_count": 8,
   "id": "7e1e4ec8-49d5-41e7-aa13-d6fb5861739f",
   "metadata": {},
   "outputs": [],
   "source": [
    "#Max Pooling\n",
    "cnn.add(tf.keras.layers.MaxPool2D(pool_size =2, strides = 2))\n",
    "#pool_size: size of frame\n",
    "#strides: number of pixel shift"
   ]
  },
  {
   "cell_type": "markdown",
   "id": "75a42702-9610-41cc-8698-beabececff37",
   "metadata": {},
   "source": [
    "Adding a second convolutional layer"
   ]
  },
  {
   "cell_type": "code",
   "execution_count": 9,
   "id": "20acd976-0f75-4978-a2c5-b76c4c82e4bd",
   "metadata": {},
   "outputs": [],
   "source": [
    "cnn.add(tf.keras.layers.Conv2D(filters=32, kernel_size=3, activation='relu'))\n",
    "cnn.add(tf.keras.layers.MaxPool2D(pool_size =2, strides = 2))"
   ]
  },
  {
   "cell_type": "markdown",
   "id": "46bf00c0-d9f6-4e91-99e4-00034f2a3a4d",
   "metadata": {},
   "source": [
    "Step 3 - Flattening"
   ]
  },
  {
   "cell_type": "code",
   "execution_count": 10,
   "id": "0fce08fd-9a66-49dc-a438-62a1379d764d",
   "metadata": {},
   "outputs": [],
   "source": [
    "cnn.add(tf.keras.layers.Flatten())"
   ]
  },
  {
   "cell_type": "markdown",
   "id": "3333fcd7-636c-42e8-8179-457f5946a0ef",
   "metadata": {},
   "source": [
    "Step 4 - Full connection"
   ]
  },
  {
   "cell_type": "code",
   "execution_count": 11,
   "id": "bef28342-f557-42fc-80e8-0bafa786375e",
   "metadata": {},
   "outputs": [],
   "source": [
    "cnn.add(tf.keras.layers.Dense(units=128, activation = 'relu'))\n",
    "#units: number of hidden neurons"
   ]
  },
  {
   "cell_type": "markdown",
   "id": "5836c03b-83bf-44a2-8dd6-c7c350641d2b",
   "metadata": {},
   "source": [
    "Step 5 - Output layer"
   ]
  },
  {
   "cell_type": "code",
   "execution_count": 12,
   "id": "80c494c2-ffeb-4817-ab1f-a9e907bbda60",
   "metadata": {},
   "outputs": [],
   "source": [
    "cnn.add(tf.keras.layers.Dense(units=1, activation = 'sigmoid'))\n",
    "#unit = 1: binary\n",
    "#multimax: softmax activation"
   ]
  },
  {
   "cell_type": "markdown",
   "id": "ab00b75d-4f04-47e1-b4a7-e10f8e4affea",
   "metadata": {},
   "source": [
    "Part 3 - Training the CNN"
   ]
  },
  {
   "cell_type": "markdown",
   "id": "78edfbfb-b124-4f5a-8699-f09df9cbf880",
   "metadata": {},
   "source": [
    "Compiling the CNN"
   ]
  },
  {
   "cell_type": "code",
   "execution_count": 13,
   "id": "9b3c6650-f7ad-4b1b-ab01-06a054dd5806",
   "metadata": {},
   "outputs": [],
   "source": [
    "cnn.compile(optimizer = 'adam', loss = 'binary_crossentropy', metrics = ['accuracy'])"
   ]
  },
  {
   "cell_type": "markdown",
   "id": "35322bef-73d1-41e2-ae1c-5d6978e25367",
   "metadata": {},
   "source": [
    "Training the CNN on the Training set and evaluating it on the Test set"
   ]
  },
  {
   "cell_type": "code",
   "execution_count": 14,
   "id": "501db6d6-34f9-427a-b158-95c3b4521c9e",
   "metadata": {},
   "outputs": [
    {
     "name": "stdout",
     "output_type": "stream",
     "text": [
      "Epoch 1/25\n"
     ]
    },
    {
     "name": "stderr",
     "output_type": "stream",
     "text": [
      "C:\\Users\\Admin\\AppData\\Local\\Programs\\Python\\Python312\\Lib\\site-packages\\keras\\src\\trainers\\data_adapters\\py_dataset_adapter.py:121: UserWarning: Your `PyDataset` class should call `super().__init__(**kwargs)` in its constructor. `**kwargs` can include `workers`, `use_multiprocessing`, `max_queue_size`. Do not pass these arguments to `fit()`, as they will be ignored.\n",
      "  self._warn_if_super_not_called()\n"
     ]
    },
    {
     "name": "stdout",
     "output_type": "stream",
     "text": [
      "\u001b[1m250/250\u001b[0m \u001b[32m━━━━━━━━━━━━━━━━━━━━\u001b[0m\u001b[37m\u001b[0m \u001b[1m30s\u001b[0m 112ms/step - accuracy: 0.5252 - loss: 0.7128 - val_accuracy: 0.6025 - val_loss: 0.6520\n",
      "Epoch 2/25\n",
      "\u001b[1m250/250\u001b[0m \u001b[32m━━━━━━━━━━━━━━━━━━━━\u001b[0m\u001b[37m\u001b[0m \u001b[1m22s\u001b[0m 87ms/step - accuracy: 0.6329 - loss: 0.6446 - val_accuracy: 0.6705 - val_loss: 0.6249\n",
      "Epoch 3/25\n",
      "\u001b[1m250/250\u001b[0m \u001b[32m━━━━━━━━━━━━━━━━━━━━\u001b[0m\u001b[37m\u001b[0m \u001b[1m22s\u001b[0m 86ms/step - accuracy: 0.6683 - loss: 0.6138 - val_accuracy: 0.6970 - val_loss: 0.5992\n",
      "Epoch 4/25\n",
      "\u001b[1m250/250\u001b[0m \u001b[32m━━━━━━━━━━━━━━━━━━━━\u001b[0m\u001b[37m\u001b[0m \u001b[1m22s\u001b[0m 86ms/step - accuracy: 0.7041 - loss: 0.5699 - val_accuracy: 0.7425 - val_loss: 0.5325\n",
      "Epoch 5/25\n",
      "\u001b[1m250/250\u001b[0m \u001b[32m━━━━━━━━━━━━━━━━━━━━\u001b[0m\u001b[37m\u001b[0m \u001b[1m22s\u001b[0m 87ms/step - accuracy: 0.7220 - loss: 0.5429 - val_accuracy: 0.7445 - val_loss: 0.5173\n",
      "Epoch 6/25\n",
      "\u001b[1m250/250\u001b[0m \u001b[32m━━━━━━━━━━━━━━━━━━━━\u001b[0m\u001b[37m\u001b[0m \u001b[1m22s\u001b[0m 86ms/step - accuracy: 0.7533 - loss: 0.5099 - val_accuracy: 0.7625 - val_loss: 0.4977\n",
      "Epoch 7/25\n",
      "\u001b[1m250/250\u001b[0m \u001b[32m━━━━━━━━━━━━━━━━━━━━\u001b[0m\u001b[37m\u001b[0m \u001b[1m22s\u001b[0m 86ms/step - accuracy: 0.7431 - loss: 0.5108 - val_accuracy: 0.7720 - val_loss: 0.4882\n",
      "Epoch 8/25\n",
      "\u001b[1m250/250\u001b[0m \u001b[32m━━━━━━━━━━━━━━━━━━━━\u001b[0m\u001b[37m\u001b[0m \u001b[1m22s\u001b[0m 85ms/step - accuracy: 0.7733 - loss: 0.4711 - val_accuracy: 0.7710 - val_loss: 0.4928\n",
      "Epoch 9/25\n",
      "\u001b[1m250/250\u001b[0m \u001b[32m━━━━━━━━━━━━━━━━━━━━\u001b[0m\u001b[37m\u001b[0m \u001b[1m22s\u001b[0m 86ms/step - accuracy: 0.7805 - loss: 0.4612 - val_accuracy: 0.7695 - val_loss: 0.4861\n",
      "Epoch 10/25\n",
      "\u001b[1m250/250\u001b[0m \u001b[32m━━━━━━━━━━━━━━━━━━━━\u001b[0m\u001b[37m\u001b[0m \u001b[1m22s\u001b[0m 87ms/step - accuracy: 0.7930 - loss: 0.4374 - val_accuracy: 0.7735 - val_loss: 0.4788\n",
      "Epoch 11/25\n",
      "\u001b[1m250/250\u001b[0m \u001b[32m━━━━━━━━━━━━━━━━━━━━\u001b[0m\u001b[37m\u001b[0m \u001b[1m23s\u001b[0m 92ms/step - accuracy: 0.8014 - loss: 0.4198 - val_accuracy: 0.7540 - val_loss: 0.5516\n",
      "Epoch 12/25\n",
      "\u001b[1m250/250\u001b[0m \u001b[32m━━━━━━━━━━━━━━━━━━━━\u001b[0m\u001b[37m\u001b[0m \u001b[1m23s\u001b[0m 90ms/step - accuracy: 0.8063 - loss: 0.4223 - val_accuracy: 0.7870 - val_loss: 0.4587\n",
      "Epoch 13/25\n",
      "\u001b[1m250/250\u001b[0m \u001b[32m━━━━━━━━━━━━━━━━━━━━\u001b[0m\u001b[37m\u001b[0m \u001b[1m22s\u001b[0m 87ms/step - accuracy: 0.8193 - loss: 0.3965 - val_accuracy: 0.7895 - val_loss: 0.4706\n",
      "Epoch 14/25\n",
      "\u001b[1m250/250\u001b[0m \u001b[32m━━━━━━━━━━━━━━━━━━━━\u001b[0m\u001b[37m\u001b[0m \u001b[1m23s\u001b[0m 89ms/step - accuracy: 0.8284 - loss: 0.3782 - val_accuracy: 0.8060 - val_loss: 0.4371\n",
      "Epoch 15/25\n",
      "\u001b[1m250/250\u001b[0m \u001b[32m━━━━━━━━━━━━━━━━━━━━\u001b[0m\u001b[37m\u001b[0m \u001b[1m22s\u001b[0m 86ms/step - accuracy: 0.8383 - loss: 0.3521 - val_accuracy: 0.8050 - val_loss: 0.4377\n",
      "Epoch 16/25\n",
      "\u001b[1m250/250\u001b[0m \u001b[32m━━━━━━━━━━━━━━━━━━━━\u001b[0m\u001b[37m\u001b[0m \u001b[1m22s\u001b[0m 87ms/step - accuracy: 0.8454 - loss: 0.3413 - val_accuracy: 0.8075 - val_loss: 0.4572\n",
      "Epoch 17/25\n",
      "\u001b[1m250/250\u001b[0m \u001b[32m━━━━━━━━━━━━━━━━━━━━\u001b[0m\u001b[37m\u001b[0m \u001b[1m22s\u001b[0m 86ms/step - accuracy: 0.8580 - loss: 0.3227 - val_accuracy: 0.8015 - val_loss: 0.4403\n",
      "Epoch 18/25\n",
      "\u001b[1m250/250\u001b[0m \u001b[32m━━━━━━━━━━━━━━━━━━━━\u001b[0m\u001b[37m\u001b[0m \u001b[1m22s\u001b[0m 87ms/step - accuracy: 0.8650 - loss: 0.3220 - val_accuracy: 0.8170 - val_loss: 0.4632\n",
      "Epoch 19/25\n",
      "\u001b[1m250/250\u001b[0m \u001b[32m━━━━━━━━━━━━━━━━━━━━\u001b[0m\u001b[37m\u001b[0m \u001b[1m22s\u001b[0m 85ms/step - accuracy: 0.8733 - loss: 0.2904 - val_accuracy: 0.8130 - val_loss: 0.4532\n",
      "Epoch 20/25\n",
      "\u001b[1m250/250\u001b[0m \u001b[32m━━━━━━━━━━━━━━━━━━━━\u001b[0m\u001b[37m\u001b[0m \u001b[1m22s\u001b[0m 87ms/step - accuracy: 0.8748 - loss: 0.2896 - val_accuracy: 0.8030 - val_loss: 0.4679\n",
      "Epoch 21/25\n",
      "\u001b[1m250/250\u001b[0m \u001b[32m━━━━━━━━━━━━━━━━━━━━\u001b[0m\u001b[37m\u001b[0m \u001b[1m22s\u001b[0m 86ms/step - accuracy: 0.8814 - loss: 0.2863 - val_accuracy: 0.7995 - val_loss: 0.4846\n",
      "Epoch 22/25\n",
      "\u001b[1m250/250\u001b[0m \u001b[32m━━━━━━━━━━━━━━━━━━━━\u001b[0m\u001b[37m\u001b[0m \u001b[1m23s\u001b[0m 91ms/step - accuracy: 0.8911 - loss: 0.2602 - val_accuracy: 0.7915 - val_loss: 0.5059\n",
      "Epoch 23/25\n",
      "\u001b[1m250/250\u001b[0m \u001b[32m━━━━━━━━━━━━━━━━━━━━\u001b[0m\u001b[37m\u001b[0m \u001b[1m24s\u001b[0m 92ms/step - accuracy: 0.9031 - loss: 0.2454 - val_accuracy: 0.8115 - val_loss: 0.4718\n",
      "Epoch 24/25\n",
      "\u001b[1m250/250\u001b[0m \u001b[32m━━━━━━━━━━━━━━━━━━━━\u001b[0m\u001b[37m\u001b[0m \u001b[1m23s\u001b[0m 89ms/step - accuracy: 0.9058 - loss: 0.2294 - val_accuracy: 0.8035 - val_loss: 0.5012\n",
      "Epoch 25/25\n",
      "\u001b[1m250/250\u001b[0m \u001b[32m━━━━━━━━━━━━━━━━━━━━\u001b[0m\u001b[37m\u001b[0m \u001b[1m23s\u001b[0m 89ms/step - accuracy: 0.9028 - loss: 0.2264 - val_accuracy: 0.7990 - val_loss: 0.5295\n"
     ]
    },
    {
     "data": {
      "text/plain": [
       "<keras.src.callbacks.history.History at 0x1fd26a56870>"
      ]
     },
     "execution_count": 14,
     "metadata": {},
     "output_type": "execute_result"
    }
   ],
   "source": [
    "cnn.fit(x = training_set, validation_data = test_set, epochs = 25)"
   ]
  },
  {
   "cell_type": "markdown",
   "id": "d3c175e3-d1fc-410f-bdd7-9e801a242e66",
   "metadata": {},
   "source": [
    "Part 4 - Making prediction"
   ]
  },
  {
   "cell_type": "code",
   "execution_count": 16,
   "id": "dc4a3352-9570-4323-8ff3-6690ebeb1440",
   "metadata": {},
   "outputs": [
    {
     "name": "stdout",
     "output_type": "stream",
     "text": [
      "\u001b[1m1/1\u001b[0m \u001b[32m━━━━━━━━━━━━━━━━━━━━\u001b[0m\u001b[37m\u001b[0m \u001b[1m0s\u001b[0m 61ms/step\n",
      "[[1.]]\n"
     ]
    }
   ],
   "source": [
    "import numpy as np\n",
    "from keras.preprocessing import image\n",
    "test_image = image.load_img('dataset/single_prediction/cat_or_dog_3.jpg',target_size = (64,64))\n",
    "test_image = image.img_to_array(test_image) \n",
    "test_image = np.expand_dims(test_image, axis = 0) \n",
    "result = cnn.predict(test_image)\n",
    "print(result)\n",
    "training_set.class_indices \n",
    "if result[0][0] == 1:\n",
    "    prediction = 'dog'\n",
    "else:\n",
    "    prediction = 'cat'\n"
   ]
  },
  {
   "cell_type": "code",
   "execution_count": 17,
   "id": "b7a61563-896e-43db-b28f-dbfd82048cca",
   "metadata": {},
   "outputs": [
    {
     "name": "stdout",
     "output_type": "stream",
     "text": [
      "dog\n"
     ]
    }
   ],
   "source": [
    "print(prediction)"
   ]
  },
  {
   "cell_type": "code",
   "execution_count": null,
   "id": "77524923-2a45-49c6-a85d-690862d2bf8a",
   "metadata": {},
   "outputs": [],
   "source": []
  }
 ],
 "metadata": {
  "kernelspec": {
   "display_name": "Python 3 (ipykernel)",
   "language": "python",
   "name": "python3"
  },
  "language_info": {
   "codemirror_mode": {
    "name": "ipython",
    "version": 3
   },
   "file_extension": ".py",
   "mimetype": "text/x-python",
   "name": "python",
   "nbconvert_exporter": "python",
   "pygments_lexer": "ipython3",
   "version": "3.12.2"
  }
 },
 "nbformat": 4,
 "nbformat_minor": 5
}
